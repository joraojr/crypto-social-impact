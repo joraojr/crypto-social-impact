{
 "cells": [
  {
   "cell_type": "code",
   "execution_count": 1,
   "id": "2bc10403",
   "metadata": {},
   "outputs": [],
   "source": [
    "import pandas as pd\n",
    "import numpy as np\n",
    "import glob"
   ]
  },
  {
   "cell_type": "code",
   "execution_count": 2,
   "id": "a2dd249e",
   "metadata": {},
   "outputs": [],
   "source": [
    "all_files = sorted(glob.glob(\"../datasets/bitcoin_data/20221012_151338/rawedges/*.csv\"))"
   ]
  },
  {
   "cell_type": "code",
   "execution_count": 3,
   "id": "eb8bd144",
   "metadata": {},
   "outputs": [
    {
     "data": {
      "text/plain": [
       "['../datasets/bitcoin_data/20221012_151338/rawedges/raw_blk_2893.csv',\n",
       " '../datasets/bitcoin_data/20221012_151338/rawedges/raw_blk_2894.csv',\n",
       " '../datasets/bitcoin_data/20221012_151338/rawedges/raw_blk_2895.csv',\n",
       " '../datasets/bitcoin_data/20221012_151338/rawedges/raw_blk_2896.csv',\n",
       " '../datasets/bitcoin_data/20221012_151338/rawedges/raw_blk_2897.csv',\n",
       " '../datasets/bitcoin_data/20221012_151338/rawedges/raw_blk_2898.csv',\n",
       " '../datasets/bitcoin_data/20221012_151338/rawedges/raw_blk_2899.csv',\n",
       " '../datasets/bitcoin_data/20221012_151338/rawedges/raw_blk_2900.csv',\n",
       " '../datasets/bitcoin_data/20221012_151338/rawedges/raw_blk_2901.csv',\n",
       " '../datasets/bitcoin_data/20221012_151338/rawedges/raw_blk_2902.csv']"
      ]
     },
     "execution_count": 3,
     "metadata": {},
     "output_type": "execute_result"
    }
   ],
   "source": [
    "all_files[0:10]"
   ]
  },
  {
   "cell_type": "code",
   "execution_count": null,
   "id": "3406b86e",
   "metadata": {},
   "outputs": [
    {
     "name": "stdout",
     "output_type": "stream",
     "text": [
      "Starting ...\n",
      "1 ouf of 96 processed\n",
      "6 ouf of 96 processed\n"
     ]
    }
   ],
   "source": [
    "print(\"Starting ...\")\n",
    "for i,file in enumerate(all_files):\n",
    "\n",
    "    df = pd.read_csv(\n",
    "        file,   \n",
    "        header=None,    \n",
    "        names = [\"ts\",\"tx_id\",\"input_tx\",\"vout\",\"output_to\",\"output_index\",\"value\",\"script\",\"blk_file\"],              \n",
    "        parse_dates=[\"ts\"],                \n",
    "        date_parser=lambda col: pd.to_datetime(col,unit='s',utc=True)\n",
    "    )\n",
    "    \n",
    "    df = df[(df.ts >= '2022-02-10') & (df.ts <= '2022-03-10')]\n",
    "    \n",
    "    df.to_csv('war_data.csv', mode='a', index=False, header=False)\n",
    "\n",
    "    del df\n",
    "    \n",
    "    if i%5 == 0:\n",
    "        print(\"{} ouf of {} processed\".format(i+1,len(all_files)))\n",
    "        "
   ]
  },
  {
   "cell_type": "code",
   "execution_count": null,
   "id": "f49a2c00-8b3d-4f88-9330-c3205bd3929a",
   "metadata": {},
   "outputs": [],
   "source": []
  }
 ],
 "metadata": {
  "kernelspec": {
   "display_name": "btc_venv",
   "language": "python",
   "name": "btc_venv"
  },
  "language_info": {
   "codemirror_mode": {
    "name": "ipython",
    "version": 3
   },
   "file_extension": ".py",
   "mimetype": "text/x-python",
   "name": "python",
   "nbconvert_exporter": "python",
   "pygments_lexer": "ipython3",
   "version": "3.10.6"
  }
 },
 "nbformat": 4,
 "nbformat_minor": 5
}
